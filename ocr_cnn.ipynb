{
  "nbformat": 4,
  "nbformat_minor": 0,
  "metadata": {
    "colab": {
      "name": "ocr-cnn.ipynb",
      "provenance": [],
      "collapsed_sections": [],
      "authorship_tag": "ABX9TyMZ2A3Swu1U1A1/ie63js+5",
      "include_colab_link": true
    },
    "kernelspec": {
      "name": "python3",
      "display_name": "Python 3"
    }
  },
  "cells": [
    {
      "cell_type": "markdown",
      "metadata": {
        "id": "view-in-github",
        "colab_type": "text"
      },
      "source": [
        "<a href=\"https://colab.research.google.com/github/amitkbiswas0/ocr-cnn/blob/master/ocr_cnn.ipynb\" target=\"_parent\"><img src=\"https://colab.research.google.com/assets/colab-badge.svg\" alt=\"Open In Colab\"/></a>"
      ]
    },
    {
      "cell_type": "code",
      "metadata": {
        "id": "0y22b338AGWC",
        "colab_type": "code",
        "outputId": "9ac86787-fd4c-49a4-b2c4-3b70e6c3f5f5",
        "colab": {
          "base_uri": "https://localhost:8080/",
          "height": 34
        }
      },
      "source": [
        "from google.colab import drive\n",
        "drive.mount('/content/drive')"
      ],
      "execution_count": 7,
      "outputs": [
        {
          "output_type": "stream",
          "text": [
            "Drive already mounted at /content/drive; to attempt to forcibly remount, call drive.mount(\"/content/drive\", force_remount=True).\n"
          ],
          "name": "stdout"
        }
      ]
    },
    {
      "cell_type": "code",
      "metadata": {
        "id": "UIVKtf3kzWV5",
        "colab_type": "code",
        "colab": {}
      },
      "source": [
        "import os, glob\n",
        "import h5py\n",
        "import numpy as np\n",
        "import pandas as pd\n",
        "import seaborn as sns\n",
        "import tensorflow as tf\n",
        "import matplotlib.pyplot as plt\n",
        "import matplotlib.image as mpimg\n",
        "from sklearn.preprocessing import MinMaxScaler\n",
        "from sklearn.model_selection import train_test_split\n",
        "from sklearn.metrics import confusion_matrix\n",
        "from keras.utils import np_utils, plot_model\n",
        "from keras.models import Model\n",
        "from keras.models import load_model\n",
        "from keras.layers import Input, Dropout, Dense, Flatten, BatchNormalization\n",
        "from keras.layers.pooling import MaxPooling2D\n",
        "from keras.layers.convolutional import Conv2D\n",
        "from keras.layers.merge import concatenate\n",
        "from keras.optimizers import Adam\n",
        "from keras.callbacks import ModelCheckpoint, EarlyStopping\n",
        "np.random.seed(0)\n",
        "# data plotting\n",
        "get_ipython().run_line_magic('matplotlib', 'inline')\n",
        "sns.set(style='white', context='notebook', palette='deep')"
      ],
      "execution_count": 0,
      "outputs": []
    },
    {
      "cell_type": "code",
      "metadata": {
        "id": "ZMxkt83Uv85T",
        "colab_type": "code",
        "outputId": "06592046-7db1-424c-c462-03280b645af1",
        "colab": {
          "base_uri": "https://localhost:8080/",
          "height": 34
        }
      },
      "source": [
        "# change directory to dataset folder\n",
        "path = '/content/drive/My Drive/Colab Notebooks/data/'\n",
        "os.chdir(path)\n",
        "# concat all the csv files in one dataframe\n",
        "extension_name = \"csv\"\n",
        "all_files = [i for i in glob.glob(\"*.{}\".format(extension_name))]\n",
        "dataframe = pd.concat([pd.read_csv(f) for f in all_files])\n",
        "print(dataframe.shape)"
      ],
      "execution_count": 9,
      "outputs": [
        {
          "output_type": "stream",
          "text": [
            "(366487, 785)\n"
          ],
          "name": "stdout"
        }
      ]
    },
    {
      "cell_type": "code",
      "metadata": {
        "id": "-lIrpFU9D_hh",
        "colab_type": "code",
        "outputId": "27747e33-bb4a-472f-e06f-4c662043c88c",
        "colab": {
          "base_uri": "https://localhost:8080/",
          "height": 34
        }
      },
      "source": [
        "# separate dataframe into label and features\n",
        "label = dataframe[[\"label\"]].copy()\n",
        "dataframe.pop(\"label\")\n",
        "features = dataframe\n",
        "print(features.shape, label.shape)"
      ],
      "execution_count": 10,
      "outputs": [
        {
          "output_type": "stream",
          "text": [
            "(366487, 784) (366487, 1)\n"
          ],
          "name": "stdout"
        }
      ]
    },
    {
      "cell_type": "code",
      "metadata": {
        "id": "ZqMGUrkhEJtM",
        "colab_type": "code",
        "outputId": "62fb3f0c-f6ce-4883-a84c-8958d0136ec5",
        "colab": {
          "base_uri": "https://localhost:8080/",
          "height": 51
        }
      },
      "source": [
        "# separate label and features into train and test set\n",
        "x_train, x_test, y_train, y_test = train_test_split(features, label, test_size=0.25, shuffle=True)\n",
        "print(f'Train size: {x_train.shape}')\n",
        "print(f'Test size: {x_test.shape}')"
      ],
      "execution_count": 11,
      "outputs": [
        {
          "output_type": "stream",
          "text": [
            "Train size: (274865, 784)\n",
            "Test size: (91622, 784)\n"
          ],
          "name": "stdout"
        }
      ]
    },
    {
      "cell_type": "code",
      "metadata": {
        "id": "FWQKkgTtENil",
        "colab_type": "code",
        "colab": {}
      },
      "source": [
        "# fit and transform train data between 0-1\n",
        "# for easier computation using min max scaler\n",
        "scaler = MinMaxScaler()\n",
        "x_train = scaler.fit_transform(x_train)\n",
        "x_test = scaler.fit_transform(x_test)"
      ],
      "execution_count": 0,
      "outputs": []
    },
    {
      "cell_type": "code",
      "metadata": {
        "id": "lrbr7TVxERH0",
        "colab_type": "code",
        "outputId": "3a804d0d-2d84-4878-ba94-2e238f650832",
        "colab": {
          "base_uri": "https://localhost:8080/",
          "height": 51
        }
      },
      "source": [
        "# normalize data to avoid anomolies\n",
        "# one hot encoding\n",
        "y_train = np_utils.to_categorical(y_train)\n",
        "y_test = np_utils.to_categorical(y_test)\n",
        "print(y_train.shape, y_test.shape)\n",
        "print(x_train.shape, x_test.shape)"
      ],
      "execution_count": 13,
      "outputs": [
        {
          "output_type": "stream",
          "text": [
            "(274865, 122) (91622, 122)\n",
            "(274865, 784) (91622, 784)\n"
          ],
          "name": "stdout"
        }
      ]
    },
    {
      "cell_type": "code",
      "metadata": {
        "id": "_QpiNwSUEXq8",
        "colab_type": "code",
        "outputId": "a37bd7ca-7e73-4e77-9d22-95302fdb7237",
        "colab": {
          "base_uri": "https://localhost:8080/",
          "height": 51
        }
      },
      "source": [
        "# change into 28*28 matrix\n",
        "x_train = np.reshape(x_train, (-1,28,28,1))\n",
        "x_test = np.reshape(x_test, (-1,28,28,1))\n",
        "print(x_train.shape)\n",
        "print(x_test.shape)"
      ],
      "execution_count": 14,
      "outputs": [
        {
          "output_type": "stream",
          "text": [
            "(274865, 28, 28, 1)\n",
            "(91622, 28, 28, 1)\n"
          ],
          "name": "stdout"
        }
      ]
    },
    {
      "cell_type": "code",
      "metadata": {
        "id": "1UnnFsIdEdrt",
        "colab_type": "code",
        "outputId": "0761f0dc-2047-4822-b06d-cc0eb9be9851",
        "colab": {
          "base_uri": "https://localhost:8080/",
          "height": 969
        }
      },
      "source": [
        "# input layer\n",
        "visible = Input(shape=(28,28,1))\n",
        "\n",
        "# first 2 conv2d\n",
        "layer_1 = Conv2D(32, kernel_size=3, padding=\"same\", activation='relu')(visible)\n",
        "layer_2 = Conv2D(32, kernel_size=5, padding=\"same\", activation=\"relu\")(layer_1)\n",
        "layer_3 = MaxPooling2D(pool_size=(2,2))(layer_2)\n",
        "layer_4 = Dropout(rate=0.25)(layer_3)\n",
        "\n",
        "# parallel part\n",
        "# top layers\n",
        "layer_5 = Conv2D(64, kernel_size=5, padding=\"same\", activation=\"relu\")(layer_4)\n",
        "layer_6 = BatchNormalization()(layer_5)\n",
        "layer_7 = Conv2D(64, kernel_size=5, padding=\"same\", activation=\"relu\")(layer_6)\n",
        "layer_8 = BatchNormalization()(layer_7)\n",
        "layer_9 = MaxPooling2D(pool_size=(2,2))(layer_8)\n",
        "layer_10 = Dropout(rate=0.25)(layer_9)\n",
        "# bottom layers\n",
        "layer_11 = Conv2D(64, kernel_size=3, padding=\"same\", activation=\"relu\")(layer_4)\n",
        "layer_12 = Conv2D(64, kernel_size=3, padding=\"same\", activation=\"relu\")(layer_11)\n",
        "layer_13 = MaxPooling2D(pool_size=(2,2))(layer_12)\n",
        "layer_14 = Dropout(rate=0.25)(layer_13)\n",
        "\n",
        "# last part\n",
        "layer_15 = concatenate([layer_10, layer_14])\n",
        "layer_16 = Conv2D(64, kernel_size=3, padding=\"same\", activation=\"relu\")(layer_15)\n",
        "layer_17 = MaxPooling2D(pool_size=(2,2))(layer_16)\n",
        "layer_18 = Dropout(rate=0.25)(layer_17)\n",
        "\n",
        "# rest\n",
        "flatten = Flatten()(layer_18)\n",
        "hidden = Dense(2048, activation=\"relu\")(flatten)\n",
        "layer_19 = Dropout(rate=0.25)(hidden)\n",
        "output = Dense(122, activation=\"softmax\")(layer_19)\n",
        "model = Model(inputs=visible, outputs=output)\n",
        "\n",
        "model.save('ocr_cnn.h5')\n",
        "optimizer = Adam(learning_rate=0.001)\n",
        "model.compile(loss=\"categorical_crossentropy\", optimizer=optimizer, metrics=[\"accuracy\"])\n",
        "print(model.summary())"
      ],
      "execution_count": 29,
      "outputs": [
        {
          "output_type": "stream",
          "text": [
            "Model: \"model_2\"\n",
            "__________________________________________________________________________________________________\n",
            "Layer (type)                    Output Shape         Param #     Connected to                     \n",
            "==================================================================================================\n",
            "input_2 (InputLayer)            (None, 28, 28, 1)    0                                            \n",
            "__________________________________________________________________________________________________\n",
            "conv2d_8 (Conv2D)               (None, 28, 28, 32)   320         input_2[0][0]                    \n",
            "__________________________________________________________________________________________________\n",
            "conv2d_9 (Conv2D)               (None, 28, 28, 32)   25632       conv2d_8[0][0]                   \n",
            "__________________________________________________________________________________________________\n",
            "max_pooling2d_5 (MaxPooling2D)  (None, 14, 14, 32)   0           conv2d_9[0][0]                   \n",
            "__________________________________________________________________________________________________\n",
            "dropout_6 (Dropout)             (None, 14, 14, 32)   0           max_pooling2d_5[0][0]            \n",
            "__________________________________________________________________________________________________\n",
            "conv2d_10 (Conv2D)              (None, 14, 14, 64)   51264       dropout_6[0][0]                  \n",
            "__________________________________________________________________________________________________\n",
            "batch_normalization_3 (BatchNor (None, 14, 14, 64)   256         conv2d_10[0][0]                  \n",
            "__________________________________________________________________________________________________\n",
            "conv2d_11 (Conv2D)              (None, 14, 14, 64)   102464      batch_normalization_3[0][0]      \n",
            "__________________________________________________________________________________________________\n",
            "conv2d_12 (Conv2D)              (None, 14, 14, 64)   18496       dropout_6[0][0]                  \n",
            "__________________________________________________________________________________________________\n",
            "batch_normalization_4 (BatchNor (None, 14, 14, 64)   256         conv2d_11[0][0]                  \n",
            "__________________________________________________________________________________________________\n",
            "conv2d_13 (Conv2D)              (None, 14, 14, 64)   36928       conv2d_12[0][0]                  \n",
            "__________________________________________________________________________________________________\n",
            "max_pooling2d_6 (MaxPooling2D)  (None, 7, 7, 64)     0           batch_normalization_4[0][0]      \n",
            "__________________________________________________________________________________________________\n",
            "max_pooling2d_7 (MaxPooling2D)  (None, 7, 7, 64)     0           conv2d_13[0][0]                  \n",
            "__________________________________________________________________________________________________\n",
            "dropout_7 (Dropout)             (None, 7, 7, 64)     0           max_pooling2d_6[0][0]            \n",
            "__________________________________________________________________________________________________\n",
            "dropout_8 (Dropout)             (None, 7, 7, 64)     0           max_pooling2d_7[0][0]            \n",
            "__________________________________________________________________________________________________\n",
            "concatenate_2 (Concatenate)     (None, 7, 7, 128)    0           dropout_7[0][0]                  \n",
            "                                                                 dropout_8[0][0]                  \n",
            "__________________________________________________________________________________________________\n",
            "conv2d_14 (Conv2D)              (None, 7, 7, 64)     73792       concatenate_2[0][0]              \n",
            "__________________________________________________________________________________________________\n",
            "max_pooling2d_8 (MaxPooling2D)  (None, 3, 3, 64)     0           conv2d_14[0][0]                  \n",
            "__________________________________________________________________________________________________\n",
            "dropout_9 (Dropout)             (None, 3, 3, 64)     0           max_pooling2d_8[0][0]            \n",
            "__________________________________________________________________________________________________\n",
            "flatten_2 (Flatten)             (None, 576)          0           dropout_9[0][0]                  \n",
            "__________________________________________________________________________________________________\n",
            "dense_3 (Dense)                 (None, 2048)         1181696     flatten_2[0][0]                  \n",
            "__________________________________________________________________________________________________\n",
            "dropout_10 (Dropout)            (None, 2048)         0           dense_3[0][0]                    \n",
            "__________________________________________________________________________________________________\n",
            "dense_4 (Dense)                 (None, 122)          249978      dropout_10[0][0]                 \n",
            "==================================================================================================\n",
            "Total params: 1,741,082\n",
            "Trainable params: 1,740,826\n",
            "Non-trainable params: 256\n",
            "__________________________________________________________________________________________________\n",
            "None\n"
          ],
          "name": "stdout"
        }
      ]
    },
    {
      "cell_type": "code",
      "metadata": {
        "id": "vF_Z8PMNrdZz",
        "colab_type": "code",
        "colab": {}
      },
      "source": [
        "model_chkpt = ModelCheckpoint('best_mod.h5', save_best_only=True, monitor='accuracy')\n",
        "early_stopping = EarlyStopping(monitor='loss', restore_best_weights=False, patience=10)"
      ],
      "execution_count": 0,
      "outputs": []
    },
    {
      "cell_type": "code",
      "metadata": {
        "id": "AGNWlcQfEjyN",
        "colab_type": "code",
        "colab": {
          "base_uri": "https://localhost:8080/",
          "height": 374
        },
        "outputId": "79a96007-9150-473a-a672-ce2790f6dbd6"
      },
      "source": [
        "training_history = model.fit(x_train, y_train, validation_data=(x_test, y_test), epochs=10, batch_size=128, callbacks=[model_chkpt, early_stopping])\n",
        "model.save('ocr_cnn_trained.h5')"
      ],
      "execution_count": 31,
      "outputs": [
        {
          "output_type": "stream",
          "text": [
            "Train on 274865 samples, validate on 91622 samples\n",
            "Epoch 1/10\n",
            "274865/274865 [==============================] - 3608s 13ms/step - loss: 0.8101 - accuracy: 0.7894 - val_loss: 0.3090 - val_accuracy: 0.9193\n",
            "Epoch 2/10\n",
            "274865/274865 [==============================] - 3596s 13ms/step - loss: 0.3601 - accuracy: 0.9031 - val_loss: 0.2698 - val_accuracy: 0.9308\n",
            "Epoch 3/10\n",
            "274865/274865 [==============================] - 3604s 13ms/step - loss: 0.3004 - accuracy: 0.9197 - val_loss: 0.2165 - val_accuracy: 0.9448\n",
            "Epoch 4/10\n",
            "274865/274865 [==============================] - 3609s 13ms/step - loss: 0.2645 - accuracy: 0.9285 - val_loss: 0.2022 - val_accuracy: 0.9499\n",
            "Epoch 5/10\n",
            "274865/274865 [==============================] - 3613s 13ms/step - loss: 0.2332 - accuracy: 0.9365 - val_loss: 0.2201 - val_accuracy: 0.9441\n",
            "Epoch 6/10\n",
            "274865/274865 [==============================] - 3657s 13ms/step - loss: 0.2128 - accuracy: 0.9420 - val_loss: 0.1866 - val_accuracy: 0.9531\n",
            "Epoch 7/10\n",
            "274865/274865 [==============================] - 3642s 13ms/step - loss: 0.1973 - accuracy: 0.9460 - val_loss: 0.1879 - val_accuracy: 0.9526\n",
            "Epoch 8/10\n",
            "274865/274865 [==============================] - 3664s 13ms/step - loss: 0.1834 - accuracy: 0.9491 - val_loss: 0.1729 - val_accuracy: 0.9567\n",
            "Epoch 9/10\n",
            "274865/274865 [==============================] - 3650s 13ms/step - loss: 0.1743 - accuracy: 0.9513 - val_loss: 0.1704 - val_accuracy: 0.9581\n",
            "Epoch 10/10\n",
            "274865/274865 [==============================] - 3643s 13ms/step - loss: 0.1640 - accuracy: 0.9541 - val_loss: 0.1770 - val_accuracy: 0.9569\n"
          ],
          "name": "stdout"
        }
      ]
    },
    {
      "cell_type": "code",
      "metadata": {
        "id": "DgdhaP173GpL",
        "colab_type": "code",
        "colab": {
          "base_uri": "https://localhost:8080/",
          "height": 213
        },
        "outputId": "1d5554e2-7e2a-4eab-c53b-627eba2d63cd"
      },
      "source": [
        "fig, ax = plt.subplots(1,2, figsize=(12, 3))\n",
        "ax[0].plot(training_history.history['loss'], color='b', label=\"Training loss\")\n",
        "ax[0].plot(training_history.history['val_loss'], color='r', label=\"validation loss\",axes =ax[0])\n",
        "legend = ax[0].legend(loc='best', shadow=True)\n",
        "\n",
        "ax[1].plot(training_history.history['accuracy'], color='b', label=\"Training accuracy\")\n",
        "ax[1].plot(training_history.history['val_accuracy'], color='r',label=\"Validation accuracy\")\n",
        "legend = ax[1].legend(loc='best', shadow=True)"
      ],
      "execution_count": 32,
      "outputs": [
        {
          "output_type": "display_data",
          "data": {
            "image/png": "[encoded data removed]",
            "text/plain": [
              "<Figure size 864x216 with 2 Axes>"
            ]
          },
          "metadata": {
            "tags": []
          }
        }
      ]
    }
  ]
}