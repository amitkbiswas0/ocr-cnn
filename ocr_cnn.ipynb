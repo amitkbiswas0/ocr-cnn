{
  "nbformat": 4,
  "nbformat_minor": 0,
  "metadata": {
    "colab": {
      "name": "ocr-cnn.ipynb",
      "provenance": [],
      "collapsed_sections": [],
      "authorship_tag": "ABX9TyNgq0UBHUiMXemH/em812qQ",
      "include_colab_link": true
    },
    "kernelspec": {
      "name": "python3",
      "display_name": "Python 3"
    }
  },
  "cells": [
    {
      "cell_type": "markdown",
      "metadata": {
        "id": "view-in-github",
        "colab_type": "text"
      },
      "source": [
        "<a href=\"https://colab.research.google.com/github/amitkbiswas0/ocr-cnn/blob/master/ocr_cnn.ipynb\" target=\"_parent\"><img src=\"https://colab.research.google.com/assets/colab-badge.svg\" alt=\"Open In Colab\"/></a>"
      ]
    },
    {
      "cell_type": "code",
      "metadata": {
        "id": "0y22b338AGWC",
        "colab_type": "code",
        "outputId": "0bc3fb0b-f600-4d98-f81d-20d50c02281b",
        "colab": {
          "base_uri": "https://localhost:8080/",
          "height": 122
        }
      },
      "source": [
        "from google.colab import drive\n",
        "drive.mount('/content/drive')"
      ],
      "execution_count": 0,
      "outputs": [
        {
          "output_type": "stream",
          "text": [
            "Go to this URL in a browser: https://accounts.google.com/o/oauth2/auth?client_id=947318989803-6bn6qk8qdgf4n4g3pfee6491hc0brc4i.apps.googleusercontent.com&redirect_uri=urn%3aietf%3awg%3aoauth%3a2.0%3aoob&response_type=code&scope=email%20https%3a%2f%2fwww.googleapis.com%2fauth%2fdocs.test%20https%3a%2f%2fwww.googleapis.com%2fauth%2fdrive%20https%3a%2f%2fwww.googleapis.com%2fauth%2fdrive.photos.readonly%20https%3a%2f%2fwww.googleapis.com%2fauth%2fpeopleapi.readonly\n",
            "\n",
            "Enter your authorization code:\n",
            "··········\n",
            "Mounted at /content/drive\n"
          ],
          "name": "stdout"
        }
      ]
    },
    {
      "cell_type": "code",
      "metadata": {
        "id": "UIVKtf3kzWV5",
        "colab_type": "code",
        "outputId": "18e698af-c96c-4979-ba87-cb08e982cbb8",
        "colab": {
          "base_uri": "https://localhost:8080/",
          "height": 88
        }
      },
      "source": [
        "import os, glob\n",
        "import numpy as np\n",
        "import pandas as pd\n",
        "import seaborn as sns\n",
        "import matplotlib.pyplot as plt\n",
        "import matplotlib.image as mpimg\n",
        "from sklearn.preprocessing import MinMaxScaler\n",
        "from sklearn.model_selection import train_test_split\n",
        "from sklearn.metrics import confusion_matrix\n",
        "from keras.utils import np_utils, plot_model\n",
        "from keras.models import Model\n",
        "from keras.layers import Input, Dropout, Dense, Flatten, BatchNormalization\n",
        "from keras.layers.pooling import MaxPooling2D\n",
        "from keras.layers.convolutional import Conv2D\n",
        "from keras.layers.merge import concatenate\n",
        "from keras.optimizers import Adam\n",
        "from keras.preprocessing.image import ImageDataGenerator\n",
        "from keras.callbacks import ReduceLROnPlateau\n",
        "np.random.seed(0)\n",
        "# data plotting\n",
        "get_ipython().run_line_magic('matplotlib', 'inline')\n",
        "sns.set(style='white', context='notebook', palette='deep')"
      ],
      "execution_count": 0,
      "outputs": [
        {
          "output_type": "stream",
          "text": [
            "/usr/local/lib/python3.6/dist-packages/statsmodels/tools/_testing.py:19: FutureWarning: pandas.util.testing is deprecated. Use the functions in the public API at pandas.testing instead.\n",
            "  import pandas.util.testing as tm\n",
            "Using TensorFlow backend.\n"
          ],
          "name": "stderr"
        }
      ]
    },
    {
      "cell_type": "code",
      "metadata": {
        "id": "XsUk_nG3zukT",
        "colab_type": "code",
        "outputId": "d7b38909-a21f-4e7b-87f5-d24d67153cce",
        "colab": {
          "base_uri": "https://localhost:8080/",
          "height": 34
        }
      },
      "source": [
        "# change directory to dataset folder\n",
        "path = '/content/drive/My Drive/Colab Notebooks/data/'\n",
        "os.chdir(path)\n",
        "\n",
        "# concat all the csv files in one dataframe\n",
        "extension_name = \"csv\"\n",
        "all_files = [i for i in glob.glob(\"*.{}\".format(extension_name))]\n",
        "dataframe = pd.concat([pd.read_csv(f) for f in all_files])\n",
        "print(dataframe.shape)"
      ],
      "execution_count": 0,
      "outputs": [
        {
          "output_type": "stream",
          "text": [
            "(366487, 785)\n"
          ],
          "name": "stdout"
        }
      ]
    },
    {
      "cell_type": "code",
      "metadata": {
        "id": "-lIrpFU9D_hh",
        "colab_type": "code",
        "outputId": "ba1aa348-57f4-4092-dae3-97ca4f8378dd",
        "colab": {
          "base_uri": "https://localhost:8080/",
          "height": 34
        }
      },
      "source": [
        "# separate dataframe into label and features\n",
        "label = dataframe[[\"label\"]].copy()\n",
        "dataframe.pop(\"label\")\n",
        "features = dataframe\n",
        "print(features.shape, label.shape)"
      ],
      "execution_count": 0,
      "outputs": [
        {
          "output_type": "stream",
          "text": [
            "(366487, 784) (366487, 1)\n"
          ],
          "name": "stdout"
        }
      ]
    },
    {
      "cell_type": "code",
      "metadata": {
        "id": "ZqMGUrkhEJtM",
        "colab_type": "code",
        "outputId": "c345f3ab-72ef-44a3-d669-4beab5fd87ec",
        "colab": {
          "base_uri": "https://localhost:8080/",
          "height": 51
        }
      },
      "source": [
        "# separate label and features into train and test set\n",
        "x_train, x_test, y_train, y_test = train_test_split(features, label, test_size=0.25, shuffle=True)\n",
        "print(f'Train size: {x_train.shape}')\n",
        "print(f'Test size: {x_test.shape}')"
      ],
      "execution_count": 0,
      "outputs": [
        {
          "output_type": "stream",
          "text": [
            "Train size: (274865, 784)\n",
            "Test size: (91622, 784)\n"
          ],
          "name": "stdout"
        }
      ]
    },
    {
      "cell_type": "code",
      "metadata": {
        "id": "FWQKkgTtENil",
        "colab_type": "code",
        "colab": {}
      },
      "source": [
        "# fit and transform train data between 0-1\n",
        "# for easier computation using min max scaler\n",
        "scaler = MinMaxScaler()\n",
        "x_train = scaler.fit_transform(x_train)\n",
        "x_test = scaler.fit_transform(x_test)"
      ],
      "execution_count": 0,
      "outputs": []
    },
    {
      "cell_type": "code",
      "metadata": {
        "id": "lrbr7TVxERH0",
        "colab_type": "code",
        "outputId": "b22a9ce3-f107-4150-e5a6-9dd254a8ae44",
        "colab": {
          "base_uri": "https://localhost:8080/",
          "height": 51
        }
      },
      "source": [
        "# normalize data to avoid anomolies\n",
        "# one hot encoding\n",
        "y_train = np_utils.to_categorical(y_train)\n",
        "y_test = np_utils.to_categorical(y_test)\n",
        "print(y_train.shape, y_test.shape)\n",
        "print(x_train.shape, x_test.shape)"
      ],
      "execution_count": 0,
      "outputs": [
        {
          "output_type": "stream",
          "text": [
            "(274865, 122) (91622, 122)\n",
            "(274865, 784) (91622, 784)\n"
          ],
          "name": "stdout"
        }
      ]
    },
    {
      "cell_type": "code",
      "metadata": {
        "id": "_QpiNwSUEXq8",
        "colab_type": "code",
        "outputId": "fac2aa69-683e-470c-f27d-7124e71d9b21",
        "colab": {
          "base_uri": "https://localhost:8080/",
          "height": 51
        }
      },
      "source": [
        "# change into 28*28 matrix\n",
        "x_train = np.reshape(x_train, (-1,28,28,1))\n",
        "x_test = np.reshape(x_test, (-1,28,28,1))\n",
        "print(x_train.shape)\n",
        "print(x_test.shape)"
      ],
      "execution_count": 0,
      "outputs": [
        {
          "output_type": "stream",
          "text": [
            "(274865, 28, 28, 1)\n",
            "(91622, 28, 28, 1)\n"
          ],
          "name": "stdout"
        }
      ]
    },
    {
      "cell_type": "code",
      "metadata": {
        "id": "1UnnFsIdEdrt",
        "colab_type": "code",
        "outputId": "058403b0-1706-437a-c3a7-f7c5e5a38b08",
        "colab": {
          "base_uri": "https://localhost:8080/",
          "height": 969
        }
      },
      "source": [
        "# input layer\n",
        "visible = Input(shape=(28,28,1))\n",
        "\n",
        "# first 2 conv2d\n",
        "layer_1 = Conv2D(32, kernel_size=3, padding=\"same\", activation='relu')(visible)\n",
        "layer_2 = Conv2D(32, kernel_size=5, padding=\"same\", activation=\"relu\")(layer_1)\n",
        "layer_3 = MaxPooling2D(pool_size=(2,2))(layer_2)\n",
        "layer_4 = Dropout(rate=0.25)(layer_3)\n",
        "\n",
        "# parallel part\n",
        "# top layers\n",
        "layer_5 = Conv2D(64, kernel_size=5, padding=\"same\", activation=\"relu\")(layer_4)\n",
        "layer_6 = BatchNormalization()(layer_5)\n",
        "layer_7 = Conv2D(64, kernel_size=5, padding=\"same\", activation=\"relu\")(layer_6)\n",
        "layer_8 = BatchNormalization()(layer_7)\n",
        "layer_9 = MaxPooling2D(pool_size=(2,2))(layer_8)\n",
        "layer_10 = Dropout(rate=0.25)(layer_9)\n",
        "# bottom layers\n",
        "layer_11 = Conv2D(64, kernel_size=3, padding=\"same\", activation=\"relu\")(layer_4)\n",
        "layer_12 = Conv2D(64, kernel_size=3, padding=\"same\", activation=\"relu\")(layer_11)\n",
        "layer_13 = MaxPooling2D(pool_size=(2,2))(layer_12)\n",
        "layer_14 = Dropout(rate=0.25)(layer_13)\n",
        "\n",
        "# last part\n",
        "layer_15 = concatenate([layer_10, layer_14])\n",
        "layer_16 = Conv2D(64, kernel_size=3, padding=\"same\", activation=\"relu\")(layer_15)\n",
        "layer_17 = MaxPooling2D(pool_size=(2,2))(layer_16)\n",
        "layer_18 = Dropout(rate=0.25)(layer_17)\n",
        "\n",
        "# rest\n",
        "flatten = Flatten()(layer_18)\n",
        "hidden = Dense(2048, activation=\"relu\")(flatten)\n",
        "layer_19 = Dropout(rate=0.25)(hidden)\n",
        "output = Dense(122, activation=\"softmax\")(layer_19)\n",
        "model = Model(inputs=visible, outputs=output)\n",
        "\n",
        "print(model.summary())"
      ],
      "execution_count": 0,
      "outputs": [
        {
          "output_type": "stream",
          "text": [
            "Model: \"model_1\"\n",
            "__________________________________________________________________________________________________\n",
            "Layer (type)                    Output Shape         Param #     Connected to                     \n",
            "==================================================================================================\n",
            "input_1 (InputLayer)            (None, 28, 28, 1)    0                                            \n",
            "__________________________________________________________________________________________________\n",
            "conv2d_1 (Conv2D)               (None, 28, 28, 32)   320         input_1[0][0]                    \n",
            "__________________________________________________________________________________________________\n",
            "conv2d_2 (Conv2D)               (None, 28, 28, 32)   25632       conv2d_1[0][0]                   \n",
            "__________________________________________________________________________________________________\n",
            "max_pooling2d_1 (MaxPooling2D)  (None, 14, 14, 32)   0           conv2d_2[0][0]                   \n",
            "__________________________________________________________________________________________________\n",
            "dropout_1 (Dropout)             (None, 14, 14, 32)   0           max_pooling2d_1[0][0]            \n",
            "__________________________________________________________________________________________________\n",
            "conv2d_3 (Conv2D)               (None, 14, 14, 64)   51264       dropout_1[0][0]                  \n",
            "__________________________________________________________________________________________________\n",
            "batch_normalization_1 (BatchNor (None, 14, 14, 64)   256         conv2d_3[0][0]                   \n",
            "__________________________________________________________________________________________________\n",
            "conv2d_4 (Conv2D)               (None, 14, 14, 64)   102464      batch_normalization_1[0][0]      \n",
            "__________________________________________________________________________________________________\n",
            "conv2d_5 (Conv2D)               (None, 14, 14, 64)   18496       dropout_1[0][0]                  \n",
            "__________________________________________________________________________________________________\n",
            "batch_normalization_2 (BatchNor (None, 14, 14, 64)   256         conv2d_4[0][0]                   \n",
            "__________________________________________________________________________________________________\n",
            "conv2d_6 (Conv2D)               (None, 14, 14, 64)   36928       conv2d_5[0][0]                   \n",
            "__________________________________________________________________________________________________\n",
            "max_pooling2d_2 (MaxPooling2D)  (None, 7, 7, 64)     0           batch_normalization_2[0][0]      \n",
            "__________________________________________________________________________________________________\n",
            "max_pooling2d_3 (MaxPooling2D)  (None, 7, 7, 64)     0           conv2d_6[0][0]                   \n",
            "__________________________________________________________________________________________________\n",
            "dropout_2 (Dropout)             (None, 7, 7, 64)     0           max_pooling2d_2[0][0]            \n",
            "__________________________________________________________________________________________________\n",
            "dropout_3 (Dropout)             (None, 7, 7, 64)     0           max_pooling2d_3[0][0]            \n",
            "__________________________________________________________________________________________________\n",
            "concatenate_1 (Concatenate)     (None, 7, 7, 128)    0           dropout_2[0][0]                  \n",
            "                                                                 dropout_3[0][0]                  \n",
            "__________________________________________________________________________________________________\n",
            "conv2d_7 (Conv2D)               (None, 7, 7, 64)     73792       concatenate_1[0][0]              \n",
            "__________________________________________________________________________________________________\n",
            "max_pooling2d_4 (MaxPooling2D)  (None, 3, 3, 64)     0           conv2d_7[0][0]                   \n",
            "__________________________________________________________________________________________________\n",
            "dropout_4 (Dropout)             (None, 3, 3, 64)     0           max_pooling2d_4[0][0]            \n",
            "__________________________________________________________________________________________________\n",
            "flatten_1 (Flatten)             (None, 576)          0           dropout_4[0][0]                  \n",
            "__________________________________________________________________________________________________\n",
            "dense_1 (Dense)                 (None, 2048)         1181696     flatten_1[0][0]                  \n",
            "__________________________________________________________________________________________________\n",
            "dropout_5 (Dropout)             (None, 2048)         0           dense_1[0][0]                    \n",
            "__________________________________________________________________________________________________\n",
            "dense_2 (Dense)                 (None, 122)          249978      dropout_5[0][0]                  \n",
            "==================================================================================================\n",
            "Total params: 1,741,082\n",
            "Trainable params: 1,740,826\n",
            "Non-trainable params: 256\n",
            "__________________________________________________________________________________________________\n",
            "None\n"
          ],
          "name": "stdout"
        }
      ]
    },
    {
      "cell_type": "code",
      "metadata": {
        "id": "AGNWlcQfEjyN",
        "colab_type": "code",
        "outputId": "78bb3d33-00fc-4686-f295-7a62ebfaf7e2",
        "colab": {
          "base_uri": "https://localhost:8080/",
          "height": 391
        }
      },
      "source": [
        "optimizer = Adam(learning_rate=0.001)\n",
        "model.compile(loss=\"categorical_crossentropy\", optimizer=optimizer, metrics=[\"accuracy\"])\n",
        "model.fit(x_train, y_train, validation_data=(x_test, y_test), epochs=10, batch_size=128)\n",
        "model.save('ocr_cnn.h5')"
      ],
      "execution_count": 0,
      "outputs": [
        {
          "output_type": "stream",
          "text": [
            "Train on 274865 samples, validate on 91622 samples\n",
            "Epoch 1/10\n",
            "274865/274865 [==============================] - 3615s 13ms/step - loss: 0.8100 - accuracy: 0.7907 - val_loss: 0.2974 - val_accuracy: 0.9211\n",
            "Epoch 2/10\n",
            "274865/274865 [==============================] - 3608s 13ms/step - loss: 0.3581 - accuracy: 0.9045 - val_loss: 0.2453 - val_accuracy: 0.9363\n",
            "Epoch 3/10\n",
            "274865/274865 [==============================] - 3618s 13ms/step - loss: 0.2985 - accuracy: 0.9198 - val_loss: 0.2360 - val_accuracy: 0.9386\n",
            "Epoch 4/10\n",
            "274865/274865 [==============================] - 3621s 13ms/step - loss: 0.2627 - accuracy: 0.9293 - val_loss: 0.2015 - val_accuracy: 0.9490\n",
            "Epoch 5/10\n",
            "274865/274865 [==============================] - 3615s 13ms/step - loss: 0.2329 - accuracy: 0.9367 - val_loss: 0.2026 - val_accuracy: 0.9488\n",
            "Epoch 6/10\n",
            "274865/274865 [==============================] - 3613s 13ms/step - loss: 0.2114 - accuracy: 0.9420 - val_loss: 0.1905 - val_accuracy: 0.9527\n",
            "Epoch 7/10\n",
            "274865/274865 [==============================] - 3598s 13ms/step - loss: 0.1955 - accuracy: 0.9460 - val_loss: 0.1742 - val_accuracy: 0.9555\n",
            "Epoch 8/10\n",
            "274865/274865 [==============================] - 3613s 13ms/step - loss: 0.1827 - accuracy: 0.9493 - val_loss: 0.1748 - val_accuracy: 0.9565\n",
            "Epoch 9/10\n",
            "274865/274865 [==============================] - 3624s 13ms/step - loss: 0.1716 - accuracy: 0.9517 - val_loss: 0.1728 - val_accuracy: 0.9570\n",
            "Epoch 10/10\n",
            "274865/274865 [==============================] - 3630s 13ms/step - loss: 0.1655 - accuracy: 0.9532 - val_loss: 0.1709 - val_accuracy: 0.9579\n"
          ],
          "name": "stdout"
        },
        {
          "output_type": "execute_result",
          "data": {
            "text/plain": [
              "<keras.callbacks.callbacks.History at 0x7f4fbd00a7f0>"
            ]
          },
          "metadata": {
            "tags": []
          },
          "execution_count": 10
        }
      ]
    }
  ]
}