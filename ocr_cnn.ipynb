{
  "nbformat": 4,
  "nbformat_minor": 0,
  "metadata": {
    "colab": {
      "name": "ocr-cnn.ipynb",
      "provenance": [],
      "collapsed_sections": [],
      "authorship_tag": "ABX9TyOsGpjk+1VLZSRFjhoHksHa",
      "include_colab_link": true
    },
    "kernelspec": {
      "name": "python3",
      "display_name": "Python 3"
    }
  },
  "cells": [
    {
      "cell_type": "markdown",
      "metadata": {
        "id": "view-in-github",
        "colab_type": "text"
      },
      "source": [
        "<a href=\"https://colab.research.google.com/github/amitkbiswas0/ocr-cnn/blob/master/ocr_cnn.ipynb\" target=\"_parent\"><img src=\"https://colab.research.google.com/assets/colab-badge.svg\" alt=\"Open In Colab\"/></a>"
      ]
    },
    {
      "cell_type": "code",
      "metadata": {
        "id": "0y22b338AGWC",
        "colab_type": "code",
        "colab": {
          "base_uri": "https://localhost:8080/",
          "height": 34
        },
        "outputId": "c3befc14-cdde-4690-a9db-d86fcc812463"
      },
      "source": [
        "from google.colab import drive\n",
        "drive.mount('/content/drive')"
      ],
      "execution_count": 11,
      "outputs": [
        {
          "output_type": "stream",
          "text": [
            "Drive already mounted at /content/drive; to attempt to forcibly remount, call drive.mount(\"/content/drive\", force_remount=True).\n"
          ],
          "name": "stdout"
        }
      ]
    },
    {
      "cell_type": "code",
      "metadata": {
        "id": "UIVKtf3kzWV5",
        "colab_type": "code",
        "colab": {}
      },
      "source": [
        "import os, glob\n",
        "import numpy as np\n",
        "import pandas as pd\n",
        "import seaborn as sns\n",
        "import matplotlib.pyplot as plt\n",
        "import matplotlib.image as mpimg\n",
        "from sklearn.preprocessing import MinMaxScaler\n",
        "from sklearn.model_selection import train_test_split\n",
        "from sklearn.metrics import confusion_matrix\n",
        "from keras.utils import np_utils, plot_model\n",
        "from keras.models import Model\n",
        "from keras.layers import Input, Dropout, Dense, Flatten, BatchNormalization\n",
        "from keras.layers.pooling import MaxPooling2D\n",
        "from keras.layers.convolutional import Conv2D\n",
        "from keras.layers.merge import concatenate\n",
        "from keras.optimizers import Adam\n",
        "from keras.preprocessing.image import ImageDataGenerator\n",
        "from keras.callbacks import ReduceLROnPlateau\n",
        "np.random.seed(0)\n",
        "# data plotting\n",
        "get_ipython().run_line_magic('matplotlib', 'inline')\n",
        "sns.set(style='white', context='notebook', palette='deep')"
      ],
      "execution_count": 0,
      "outputs": []
    },
    {
      "cell_type": "code",
      "metadata": {
        "id": "XsUk_nG3zukT",
        "colab_type": "code",
        "colab": {
          "base_uri": "https://localhost:8080/",
          "height": 34
        },
        "outputId": "e3a4df2e-133b-4dd2-88b8-3180d8b57e48"
      },
      "source": [
        "path = '/content/drive/My Drive/Colab Notebooks/data/'\n",
        "os.chdir(path)\n",
        "extension_name = \"csv\"\n",
        "all_files = [i for i in glob.glob(\"*.{}\".format(extension_name))]\n",
        "# print(all_files)\n",
        "dataframe = pd.concat([pd.read_csv(f) for f in all_files])\n",
        "print(dataframe.shape)\n",
        "# df = pd.read_csv(path)\n",
        "# print(df.shape)"
      ],
      "execution_count": 13,
      "outputs": [
        {
          "output_type": "stream",
          "text": [
            "(186735, 785)\n"
          ],
          "name": "stdout"
        }
      ]
    },
    {
      "cell_type": "code",
      "metadata": {
        "id": "-lIrpFU9D_hh",
        "colab_type": "code",
        "colab": {
          "base_uri": "https://localhost:8080/",
          "height": 34
        },
        "outputId": "72ed6ca3-a9c6-45df-84cb-88b5ff9a9c46"
      },
      "source": [
        "labels = dataframe[[\"label\"]].copy()\n",
        "dataframe.pop(\"label\")\n",
        "features = dataframe\n",
        "print(features.shape, labels.shape)"
      ],
      "execution_count": 14,
      "outputs": [
        {
          "output_type": "stream",
          "text": [
            "(186735, 784) (186735, 1)\n"
          ],
          "name": "stdout"
        }
      ]
    },
    {
      "cell_type": "code",
      "metadata": {
        "id": "ZqMGUrkhEJtM",
        "colab_type": "code",
        "colab": {
          "base_uri": "https://localhost:8080/",
          "height": 34
        },
        "outputId": "72da6ea5-7359-42bd-cf81-68856cd6bbee"
      },
      "source": [
        "x_train, x_test, y_train, y_test = train_test_split(features, labels, test_size=0.2)\n",
        "print(x_train.shape, x_test.shape, y_train.shape, y_test.shape)"
      ],
      "execution_count": 15,
      "outputs": [
        {
          "output_type": "stream",
          "text": [
            "(149388, 784) (37347, 784) (149388, 1) (37347, 1)\n"
          ],
          "name": "stdout"
        }
      ]
    },
    {
      "cell_type": "code",
      "metadata": {
        "id": "FWQKkgTtENil",
        "colab_type": "code",
        "colab": {}
      },
      "source": [
        "scaler = MinMaxScaler()\n",
        "x_train = scaler.fit_transform(x_train)\n",
        "x_test = scaler.fit_transform(x_test)"
      ],
      "execution_count": 0,
      "outputs": []
    },
    {
      "cell_type": "code",
      "metadata": {
        "id": "lrbr7TVxERH0",
        "colab_type": "code",
        "colab": {
          "base_uri": "https://localhost:8080/",
          "height": 51
        },
        "outputId": "c9b20371-c716-46ee-c21f-a0765b82cad4"
      },
      "source": [
        "y_train = np_utils.to_categorical(y_train)\n",
        "y_test = np_utils.to_categorical(y_test)\n",
        "print(y_train.shape, y_test.shape)\n",
        "print(x_train.shape, x_test.shape)"
      ],
      "execution_count": 17,
      "outputs": [
        {
          "output_type": "stream",
          "text": [
            "(149388, 122) (37347, 122)\n",
            "(149388, 784) (37347, 784)\n"
          ],
          "name": "stdout"
        }
      ]
    },
    {
      "cell_type": "code",
      "metadata": {
        "id": "_QpiNwSUEXq8",
        "colab_type": "code",
        "colab": {
          "base_uri": "https://localhost:8080/",
          "height": 51
        },
        "outputId": "d1c76375-3a84-499c-f667-a7da0fd2381f"
      },
      "source": [
        "x_train = np.reshape(x_train, (-1,28,28,1))\n",
        "x_test = np.reshape(x_test, (-1,28,28,1))\n",
        "print(x_train.shape)\n",
        "print(x_test.shape)"
      ],
      "execution_count": 18,
      "outputs": [
        {
          "output_type": "stream",
          "text": [
            "(149388, 28, 28, 1)\n",
            "(37347, 28, 28, 1)\n"
          ],
          "name": "stdout"
        }
      ]
    },
    {
      "cell_type": "code",
      "metadata": {
        "id": "1UnnFsIdEdrt",
        "colab_type": "code",
        "colab": {
          "base_uri": "https://localhost:8080/",
          "height": 969
        },
        "outputId": "c5efed35-87a3-4ad6-bd76-a47129d0a5d7"
      },
      "source": [
        "# input layer\n",
        "visible = Input(shape=(28,28,1))\n",
        "\n",
        "# first 2 conv2d\n",
        "layer_1 = Conv2D(32, kernel_size=3, padding=\"same\", activation='relu')(visible)\n",
        "layer_2 = Conv2D(32, 5, padding=\"same\", activation=\"relu\")(layer_1)\n",
        "layer_3 = MaxPooling2D(pool_size=(2,2))(layer_2)\n",
        "layer_4 = Dropout(rate=0.25)(layer_3)\n",
        "\n",
        "# parallel part\n",
        "# top layers\n",
        "layer_5 = Conv2D(64, kernel_size=5, padding=\"same\", activation=\"relu\")(layer_4)\n",
        "layer_6 = BatchNormalization()(layer_5)\n",
        "layer_7 = Conv2D(64, kernel_size=5, padding=\"same\", activation=\"relu\")(layer_6)\n",
        "layer_8 = BatchNormalization()(layer_7)\n",
        "layer_9 = MaxPooling2D(pool_size=(2,2))(layer_8)\n",
        "layer_10 = Dropout(rate=0.2)(layer_9)\n",
        "# bottom layers\n",
        "layer_11 = Conv2D(64, kernel_size=3, padding=\"same\", activation=\"relu\")(layer_4)\n",
        "layer_12 = Conv2D(64, kernel_size=3, padding=\"same\", activation=\"relu\")(layer_11)\n",
        "layer_13 = MaxPooling2D(pool_size=(2,2))(layer_12)\n",
        "layer_14 = Dropout(rate=0.25)(layer_13)\n",
        "\n",
        "# last part\n",
        "layer_15 = concatenate([layer_10, layer_14])\n",
        "layer_16 = Conv2D(64, kernel_size=3, padding=\"same\", activation=\"relu\")(layer_15)\n",
        "layer_17 = MaxPooling2D(pool_size=(2,2))(layer_16)\n",
        "layer_18 = Dropout(rate=0.25)(layer_17)\n",
        "\n",
        "# rest\n",
        "flatten = Flatten()(layer_18)\n",
        "hidden = Dense(2048, activation=\"relu\")(flatten)\n",
        "layer_19 = Dropout(rate=0.25)(hidden)\n",
        "output = Dense(122, activation=\"softmax\")(layer_19)\n",
        "model = Model(inputs=visible, outputs=output)\n",
        "\n",
        "print(model.summary())"
      ],
      "execution_count": 19,
      "outputs": [
        {
          "output_type": "stream",
          "text": [
            "Model: \"model_1\"\n",
            "__________________________________________________________________________________________________\n",
            "Layer (type)                    Output Shape         Param #     Connected to                     \n",
            "==================================================================================================\n",
            "input_1 (InputLayer)            (None, 28, 28, 1)    0                                            \n",
            "__________________________________________________________________________________________________\n",
            "conv2d_1 (Conv2D)               (None, 28, 28, 32)   320         input_1[0][0]                    \n",
            "__________________________________________________________________________________________________\n",
            "conv2d_2 (Conv2D)               (None, 28, 28, 32)   25632       conv2d_1[0][0]                   \n",
            "__________________________________________________________________________________________________\n",
            "max_pooling2d_1 (MaxPooling2D)  (None, 14, 14, 32)   0           conv2d_2[0][0]                   \n",
            "__________________________________________________________________________________________________\n",
            "dropout_1 (Dropout)             (None, 14, 14, 32)   0           max_pooling2d_1[0][0]            \n",
            "__________________________________________________________________________________________________\n",
            "conv2d_3 (Conv2D)               (None, 14, 14, 64)   51264       dropout_1[0][0]                  \n",
            "__________________________________________________________________________________________________\n",
            "batch_normalization_1 (BatchNor (None, 14, 14, 64)   256         conv2d_3[0][0]                   \n",
            "__________________________________________________________________________________________________\n",
            "conv2d_4 (Conv2D)               (None, 14, 14, 64)   102464      batch_normalization_1[0][0]      \n",
            "__________________________________________________________________________________________________\n",
            "conv2d_5 (Conv2D)               (None, 14, 14, 64)   18496       dropout_1[0][0]                  \n",
            "__________________________________________________________________________________________________\n",
            "batch_normalization_2 (BatchNor (None, 14, 14, 64)   256         conv2d_4[0][0]                   \n",
            "__________________________________________________________________________________________________\n",
            "conv2d_6 (Conv2D)               (None, 14, 14, 64)   36928       conv2d_5[0][0]                   \n",
            "__________________________________________________________________________________________________\n",
            "max_pooling2d_2 (MaxPooling2D)  (None, 7, 7, 64)     0           batch_normalization_2[0][0]      \n",
            "__________________________________________________________________________________________________\n",
            "max_pooling2d_3 (MaxPooling2D)  (None, 7, 7, 64)     0           conv2d_6[0][0]                   \n",
            "__________________________________________________________________________________________________\n",
            "dropout_2 (Dropout)             (None, 7, 7, 64)     0           max_pooling2d_2[0][0]            \n",
            "__________________________________________________________________________________________________\n",
            "dropout_3 (Dropout)             (None, 7, 7, 64)     0           max_pooling2d_3[0][0]            \n",
            "__________________________________________________________________________________________________\n",
            "concatenate_1 (Concatenate)     (None, 7, 7, 128)    0           dropout_2[0][0]                  \n",
            "                                                                 dropout_3[0][0]                  \n",
            "__________________________________________________________________________________________________\n",
            "conv2d_7 (Conv2D)               (None, 7, 7, 64)     73792       concatenate_1[0][0]              \n",
            "__________________________________________________________________________________________________\n",
            "max_pooling2d_4 (MaxPooling2D)  (None, 3, 3, 64)     0           conv2d_7[0][0]                   \n",
            "__________________________________________________________________________________________________\n",
            "dropout_4 (Dropout)             (None, 3, 3, 64)     0           max_pooling2d_4[0][0]            \n",
            "__________________________________________________________________________________________________\n",
            "flatten_1 (Flatten)             (None, 576)          0           dropout_4[0][0]                  \n",
            "__________________________________________________________________________________________________\n",
            "dense_1 (Dense)                 (None, 2048)         1181696     flatten_1[0][0]                  \n",
            "__________________________________________________________________________________________________\n",
            "dropout_5 (Dropout)             (None, 2048)         0           dense_1[0][0]                    \n",
            "__________________________________________________________________________________________________\n",
            "dense_2 (Dense)                 (None, 122)          249978      dropout_5[0][0]                  \n",
            "==================================================================================================\n",
            "Total params: 1,741,082\n",
            "Trainable params: 1,740,826\n",
            "Non-trainable params: 256\n",
            "__________________________________________________________________________________________________\n",
            "None\n"
          ],
          "name": "stdout"
        }
      ]
    },
    {
      "cell_type": "code",
      "metadata": {
        "id": "AGNWlcQfEjyN",
        "colab_type": "code",
        "colab": {}
      },
      "source": [
        "optimizer = Adam(learning_rate=0.001)\n",
        "model.compile(loss=\"categorical_crossentropy\", optimizer=optimizer, metrics=[\"accuracy\"])\n",
        "# model.fit(x_train, y_train, validation_data=(x_test, y_test), epochs=5, batch_size=50)"
      ],
      "execution_count": 0,
      "outputs": []
    }
  ]
}